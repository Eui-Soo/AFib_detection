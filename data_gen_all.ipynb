{
 "cells": [
  {
   "cell_type": "code",
   "execution_count": 1,
   "metadata": {},
   "outputs": [],
   "source": [
    "#import tensorflow as tf\n",
    "import numpy as np\n",
    "import time\n",
    "import math\n",
    "import os\n",
    "\n",
    "Fs=50\n",
    "ob_time=30\n",
    "stride_time=10\n",
    "stride=stride_time*Fs\n",
    "path_dir='./AFib'\n",
    "train_AF_list=np.array(os.listdir(path_dir))\n",
    "path_dir='./SR'\n",
    "train_SR_list=np.array(os.listdir(path_dir))\n",
    "\n",
    "root_path=os.getcwd()"
   ]
  },
  {
   "cell_type": "code",
   "execution_count": 2,
   "metadata": {},
   "outputs": [],
   "source": [
    "os.chdir('./AFib')\n",
    "for file_idx in range(len(train_AF_list)):\n",
    "    data=np.loadtxt(train_AF_list[file_idx])\n",
    "    N_set=int((len(data)-(Fs*ob_time-stride))/stride)\n",
    "    tmp_set=np.zeros((N_set,Fs*ob_time))\n",
    "    for n in range(N_set):\n",
    "        tmp_set[n]=data[stride*(n):stride*(n)+Fs*ob_time]\n",
    "        tmp_set[n]=tmp_set[n]-min(tmp_set[n])\n",
    "        tmp_set[n]=tmp_set[n]/max(tmp_set[n])\n",
    "    if file_idx==0:\n",
    "        train_AF_set=tmp_set\n",
    "    else:\n",
    "        train_AF_set=np.append(train_AF_set,tmp_set,axis=0)\n",
    "\n",
    "os.chdir(root_path)\n",
    "os.chdir('./SR')\n",
    "\n",
    "for file_idx in range(len(train_SR_list)):\n",
    "    data=np.loadtxt(train_SR_list[file_idx])\n",
    "    N_set=int((len(data)-(Fs*ob_time-stride))/stride)\n",
    "    tmp_set=np.zeros((N_set,Fs*ob_time))\n",
    "    for n in range(N_set):\n",
    "        tmp_set[n]=data[stride*(n):stride*(n)+Fs*ob_time]\n",
    "        tmp_set[n]=tmp_set[n]-min(tmp_set[n])\n",
    "        tmp_set[n]=tmp_set[n]/max(tmp_set[n])\n",
    "    if file_idx==0:\n",
    "        train_SR_set=tmp_set\n",
    "    else:\n",
    "        train_SR_set=np.append(train_SR_set,tmp_set,axis=0)\n",
    "        \n",
    "os.chdir(root_path)"
   ]
  },
  {
   "cell_type": "code",
   "execution_count": 3,
   "metadata": {},
   "outputs": [],
   "source": [
    "        \n",
    "train_set=np.append(train_AF_set,train_SR_set,axis=0)\n",
    "train_label=np.zeros((len(train_set),2))\n",
    "train_label[0:len(train_AF_set)]=[1, 0]\n",
    "train_label[len(train_AF_set):]=[0, 1]\n",
    "\n",
    "s='data_set_all_stride({0})'.format(stride_time)\n",
    "np.savez_compressed(s,a=train_set,b=train_label)\n"
   ]
  },
  {
   "cell_type": "code",
   "execution_count": null,
   "metadata": {},
   "outputs": [],
   "source": []
  }
 ],
 "metadata": {
  "kernelspec": {
   "display_name": "Python 3",
   "language": "python",
   "name": "python3"
  },
  "language_info": {
   "codemirror_mode": {
    "name": "ipython",
    "version": 3
   },
   "file_extension": ".py",
   "mimetype": "text/x-python",
   "name": "python",
   "nbconvert_exporter": "python",
   "pygments_lexer": "ipython3",
   "version": "3.6.9"
  }
 },
 "nbformat": 4,
 "nbformat_minor": 2
}
